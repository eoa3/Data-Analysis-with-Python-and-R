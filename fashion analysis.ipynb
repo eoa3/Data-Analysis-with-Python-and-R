{
 "cells": [
  {
   "cell_type": "code",
   "execution_count": 34,
   "id": "658431c0",
   "metadata": {},
   "outputs": [],
   "source": [
    "import pandas as pd\n",
    "from sklearn import linear_model\n",
    "from sklearn import preprocessing\n",
    "from sklearn.metrics import mean_absolute_error, mean_squared_error\n",
    "import matplotlib.pyplot as plt"
   ]
  },
  {
   "cell_type": "code",
   "execution_count": 35,
   "id": "f7235c63",
   "metadata": {},
   "outputs": [],
   "source": [
    "md = pd.read_csv('merged_data (1).csv')"
   ]
  },
  {
   "cell_type": "code",
   "execution_count": 50,
   "id": "e2da31e9",
   "metadata": {
    "scrolled": true
   },
   "outputs": [
    {
     "name": "stdout",
     "output_type": "stream",
     "text": [
      "<class 'pandas.core.frame.DataFrame'>\n",
      "Int64Index: 14218 entries, 0 to 14217\n",
      "Data columns (total 8 columns):\n",
      " #   Column                  Non-Null Count  Dtype  \n",
      "---  ------                  --------------  -----  \n",
      " 0   Unnamed: 0              14218 non-null  int64  \n",
      " 1   merged_data.p_id        14218 non-null  int64  \n",
      " 2   merged_data.name        14218 non-null  object \n",
      " 3   merged_data.brand       14218 non-null  object \n",
      " 4   merged_data.brand_id    14218 non-null  int64  \n",
      " 5   merged_data.price       14218 non-null  int64  \n",
      " 6   merged_data.colour      14218 non-null  object \n",
      " 7   merged_data.avg_rating  14218 non-null  float64\n",
      "dtypes: float64(1), int64(4), object(3)\n",
      "memory usage: 1.5+ MB\n"
     ]
    }
   ],
   "source": [
    "md.info()"
   ]
  },
  {
   "cell_type": "code",
   "execution_count": 52,
   "id": "2dd4d229",
   "metadata": {},
   "outputs": [],
   "source": [
    "md.columns=['index','p_id','name','brand','brand_id','price','colour','avg_rating']"
   ]
  },
  {
   "cell_type": "code",
   "execution_count": 53,
   "id": "6656547e",
   "metadata": {},
   "outputs": [
    {
     "data": {
      "text/html": [
       "<div>\n",
       "<style scoped>\n",
       "    .dataframe tbody tr th:only-of-type {\n",
       "        vertical-align: middle;\n",
       "    }\n",
       "\n",
       "    .dataframe tbody tr th {\n",
       "        vertical-align: top;\n",
       "    }\n",
       "\n",
       "    .dataframe thead th {\n",
       "        text-align: right;\n",
       "    }\n",
       "</style>\n",
       "<table border=\"1\" class=\"dataframe\">\n",
       "  <thead>\n",
       "    <tr style=\"text-align: right;\">\n",
       "      <th></th>\n",
       "      <th>index</th>\n",
       "      <th>p_id</th>\n",
       "      <th>name</th>\n",
       "      <th>brand</th>\n",
       "      <th>brand_id</th>\n",
       "      <th>price</th>\n",
       "      <th>colour</th>\n",
       "      <th>avg_rating</th>\n",
       "    </tr>\n",
       "  </thead>\n",
       "  <tbody>\n",
       "    <tr>\n",
       "      <th>0</th>\n",
       "      <td>0</td>\n",
       "      <td>13158392</td>\n",
       "      <td>513 Women Black &amp; Grey Woven-Design Kimono Shrug</td>\n",
       "      <td>513</td>\n",
       "      <td>1</td>\n",
       "      <td>1699</td>\n",
       "      <td>Black</td>\n",
       "      <td>4.573529</td>\n",
       "    </tr>\n",
       "    <tr>\n",
       "      <th>1</th>\n",
       "      <td>1</td>\n",
       "      <td>15883214</td>\n",
       "      <td>513 Women Black &amp; Grey Checked Poncho Sweater</td>\n",
       "      <td>513</td>\n",
       "      <td>1</td>\n",
       "      <td>2499</td>\n",
       "      <td>Black</td>\n",
       "      <td>4.486486</td>\n",
       "    </tr>\n",
       "    <tr>\n",
       "      <th>2</th>\n",
       "      <td>2</td>\n",
       "      <td>17743260</td>\n",
       "      <td>109F Brown Culotte Jumpsuit</td>\n",
       "      <td>109F</td>\n",
       "      <td>2</td>\n",
       "      <td>1999</td>\n",
       "      <td>Brown</td>\n",
       "      <td>4.101067</td>\n",
       "    </tr>\n",
       "    <tr>\n",
       "      <th>3</th>\n",
       "      <td>3</td>\n",
       "      <td>13200776</td>\n",
       "      <td>109F Women Navy Blue Slim Fit Jeans</td>\n",
       "      <td>109F</td>\n",
       "      <td>2</td>\n",
       "      <td>1899</td>\n",
       "      <td>Navy Blue</td>\n",
       "      <td>4.101067</td>\n",
       "    </tr>\n",
       "    <tr>\n",
       "      <th>4</th>\n",
       "      <td>4</td>\n",
       "      <td>16920884</td>\n",
       "      <td>109F Women Black Striped Relaxed Trousers</td>\n",
       "      <td>109F</td>\n",
       "      <td>2</td>\n",
       "      <td>1599</td>\n",
       "      <td>Black</td>\n",
       "      <td>4.101067</td>\n",
       "    </tr>\n",
       "    <tr>\n",
       "      <th>...</th>\n",
       "      <td>...</td>\n",
       "      <td>...</td>\n",
       "      <td>...</td>\n",
       "      <td>...</td>\n",
       "      <td>...</td>\n",
       "      <td>...</td>\n",
       "      <td>...</td>\n",
       "      <td>...</td>\n",
       "    </tr>\n",
       "    <tr>\n",
       "      <th>14213</th>\n",
       "      <td>14300</td>\n",
       "      <td>17799594</td>\n",
       "      <td>ZOLA Grey Bootcut Jeans</td>\n",
       "      <td>ZOLA</td>\n",
       "      <td>1020</td>\n",
       "      <td>3791</td>\n",
       "      <td>Grey</td>\n",
       "      <td>4.750000</td>\n",
       "    </tr>\n",
       "    <tr>\n",
       "      <th>14214</th>\n",
       "      <td>14301</td>\n",
       "      <td>14579962</td>\n",
       "      <td>ZOLA Women Black Mid-Rise Denim Shorts</td>\n",
       "      <td>ZOLA</td>\n",
       "      <td>1020</td>\n",
       "      <td>2475</td>\n",
       "      <td>Black</td>\n",
       "      <td>3.807692</td>\n",
       "    </tr>\n",
       "    <tr>\n",
       "      <th>14215</th>\n",
       "      <td>14302</td>\n",
       "      <td>17870016</td>\n",
       "      <td>ZOLA Peach-Coloured &amp; Green Floral Printed Cot...</td>\n",
       "      <td>ZOLA</td>\n",
       "      <td>1020</td>\n",
       "      <td>1755</td>\n",
       "      <td>Peach</td>\n",
       "      <td>4.101067</td>\n",
       "    </tr>\n",
       "    <tr>\n",
       "      <th>14216</th>\n",
       "      <td>14303</td>\n",
       "      <td>18101028</td>\n",
       "      <td>ZOLA Women Mustard Cotton Print Parade Tunic</td>\n",
       "      <td>ZOLA</td>\n",
       "      <td>1020</td>\n",
       "      <td>5685</td>\n",
       "      <td>Mustard</td>\n",
       "      <td>4.101067</td>\n",
       "    </tr>\n",
       "    <tr>\n",
       "      <th>14217</th>\n",
       "      <td>14304</td>\n",
       "      <td>17721592</td>\n",
       "      <td>ZOLA Women Blue Lightweight Crop Denim Jacket</td>\n",
       "      <td>ZOLA</td>\n",
       "      <td>1020</td>\n",
       "      <td>2499</td>\n",
       "      <td>Blue</td>\n",
       "      <td>4.101067</td>\n",
       "    </tr>\n",
       "  </tbody>\n",
       "</table>\n",
       "<p>14218 rows × 8 columns</p>\n",
       "</div>"
      ],
      "text/plain": [
       "       index      p_id                                               name  \\\n",
       "0          0  13158392   513 Women Black & Grey Woven-Design Kimono Shrug   \n",
       "1          1  15883214      513 Women Black & Grey Checked Poncho Sweater   \n",
       "2          2  17743260                        109F Brown Culotte Jumpsuit   \n",
       "3          3  13200776                109F Women Navy Blue Slim Fit Jeans   \n",
       "4          4  16920884          109F Women Black Striped Relaxed Trousers   \n",
       "...      ...       ...                                                ...   \n",
       "14213  14300  17799594                            ZOLA Grey Bootcut Jeans   \n",
       "14214  14301  14579962             ZOLA Women Black Mid-Rise Denim Shorts   \n",
       "14215  14302  17870016  ZOLA Peach-Coloured & Green Floral Printed Cot...   \n",
       "14216  14303  18101028       ZOLA Women Mustard Cotton Print Parade Tunic   \n",
       "14217  14304  17721592      ZOLA Women Blue Lightweight Crop Denim Jacket   \n",
       "\n",
       "      brand  brand_id  price     colour  avg_rating  \n",
       "0       513         1   1699      Black    4.573529  \n",
       "1       513         1   2499      Black    4.486486  \n",
       "2      109F         2   1999      Brown    4.101067  \n",
       "3      109F         2   1899  Navy Blue    4.101067  \n",
       "4      109F         2   1599      Black    4.101067  \n",
       "...     ...       ...    ...        ...         ...  \n",
       "14213  ZOLA      1020   3791       Grey    4.750000  \n",
       "14214  ZOLA      1020   2475      Black    3.807692  \n",
       "14215  ZOLA      1020   1755      Peach    4.101067  \n",
       "14216  ZOLA      1020   5685    Mustard    4.101067  \n",
       "14217  ZOLA      1020   2499       Blue    4.101067  \n",
       "\n",
       "[14218 rows x 8 columns]"
      ]
     },
     "execution_count": 53,
     "metadata": {},
     "output_type": "execute_result"
    }
   ],
   "source": [
    "md"
   ]
  },
  {
   "cell_type": "code",
   "execution_count": 54,
   "id": "3bce3888",
   "metadata": {},
   "outputs": [],
   "source": [
    "md['price'] = md['price'].astype('int')"
   ]
  },
  {
   "cell_type": "code",
   "execution_count": 55,
   "id": "f20ca1a8",
   "metadata": {},
   "outputs": [
    {
     "data": {
      "text/html": [
       "<div>\n",
       "<style scoped>\n",
       "    .dataframe tbody tr th:only-of-type {\n",
       "        vertical-align: middle;\n",
       "    }\n",
       "\n",
       "    .dataframe tbody tr th {\n",
       "        vertical-align: top;\n",
       "    }\n",
       "\n",
       "    .dataframe thead th {\n",
       "        text-align: right;\n",
       "    }\n",
       "</style>\n",
       "<table border=\"1\" class=\"dataframe\">\n",
       "  <thead>\n",
       "    <tr style=\"text-align: right;\">\n",
       "      <th></th>\n",
       "      <th>index</th>\n",
       "      <th>p_id</th>\n",
       "      <th>brand_id</th>\n",
       "      <th>price</th>\n",
       "      <th>avg_rating</th>\n",
       "    </tr>\n",
       "  </thead>\n",
       "  <tbody>\n",
       "    <tr>\n",
       "      <th>count</th>\n",
       "      <td>14218.000000</td>\n",
       "      <td>1.421800e+04</td>\n",
       "      <td>14218.000000</td>\n",
       "      <td>14218.000000</td>\n",
       "      <td>14218.000000</td>\n",
       "    </tr>\n",
       "    <tr>\n",
       "      <th>mean</th>\n",
       "      <td>7152.420383</td>\n",
       "      <td>1.568950e+07</td>\n",
       "      <td>531.693206</td>\n",
       "      <td>2969.967858</td>\n",
       "      <td>4.101067</td>\n",
       "    </tr>\n",
       "    <tr>\n",
       "      <th>std</th>\n",
       "      <td>4127.794607</td>\n",
       "      <td>3.154737e+06</td>\n",
       "      <td>292.375569</td>\n",
       "      <td>2569.989994</td>\n",
       "      <td>0.322562</td>\n",
       "    </tr>\n",
       "    <tr>\n",
       "      <th>min</th>\n",
       "      <td>0.000000</td>\n",
       "      <td>7.016600e+04</td>\n",
       "      <td>1.000000</td>\n",
       "      <td>169.000000</td>\n",
       "      <td>1.000000</td>\n",
       "    </tr>\n",
       "    <tr>\n",
       "      <th>25%</th>\n",
       "      <td>3580.250000</td>\n",
       "      <td>1.413683e+07</td>\n",
       "      <td>278.000000</td>\n",
       "      <td>1599.000000</td>\n",
       "      <td>4.101067</td>\n",
       "    </tr>\n",
       "    <tr>\n",
       "      <th>50%</th>\n",
       "      <td>7151.500000</td>\n",
       "      <td>1.638203e+07</td>\n",
       "      <td>551.000000</td>\n",
       "      <td>2205.000000</td>\n",
       "      <td>4.101067</td>\n",
       "    </tr>\n",
       "    <tr>\n",
       "      <th>75%</th>\n",
       "      <td>10721.750000</td>\n",
       "      <td>1.807544e+07</td>\n",
       "      <td>783.000000</td>\n",
       "      <td>3498.000000</td>\n",
       "      <td>4.140389</td>\n",
       "    </tr>\n",
       "    <tr>\n",
       "      <th>max</th>\n",
       "      <td>14304.000000</td>\n",
       "      <td>1.941576e+07</td>\n",
       "      <td>1020.000000</td>\n",
       "      <td>47999.000000</td>\n",
       "      <td>5.000000</td>\n",
       "    </tr>\n",
       "  </tbody>\n",
       "</table>\n",
       "</div>"
      ],
      "text/plain": [
       "              index          p_id      brand_id         price    avg_rating\n",
       "count  14218.000000  1.421800e+04  14218.000000  14218.000000  14218.000000\n",
       "mean    7152.420383  1.568950e+07    531.693206   2969.967858      4.101067\n",
       "std     4127.794607  3.154737e+06    292.375569   2569.989994      0.322562\n",
       "min        0.000000  7.016600e+04      1.000000    169.000000      1.000000\n",
       "25%     3580.250000  1.413683e+07    278.000000   1599.000000      4.101067\n",
       "50%     7151.500000  1.638203e+07    551.000000   2205.000000      4.101067\n",
       "75%    10721.750000  1.807544e+07    783.000000   3498.000000      4.140389\n",
       "max    14304.000000  1.941576e+07   1020.000000  47999.000000      5.000000"
      ]
     },
     "execution_count": 55,
     "metadata": {},
     "output_type": "execute_result"
    }
   ],
   "source": [
    "md.describe()"
   ]
  },
  {
   "cell_type": "code",
   "execution_count": 56,
   "id": "c6c14dd6",
   "metadata": {},
   "outputs": [],
   "source": [
    "md=md.drop_duplicates()"
   ]
  },
  {
   "cell_type": "code",
   "execution_count": 57,
   "id": "1c9b5278",
   "metadata": {},
   "outputs": [],
   "source": [
    "md.dropna(axis=0, subset=['colour'], inplace=True)"
   ]
  },
  {
   "cell_type": "code",
   "execution_count": 58,
   "id": "15ca0eea",
   "metadata": {},
   "outputs": [],
   "source": [
    "mean=md['avg_rating'].mean()"
   ]
  },
  {
   "cell_type": "code",
   "execution_count": 59,
   "id": "467f50d7",
   "metadata": {},
   "outputs": [
    {
     "name": "stdout",
     "output_type": "stream",
     "text": [
      "       index      p_id                                               name  \\\n",
      "0          0  13158392   513 Women Black & Grey Woven-Design Kimono Shrug   \n",
      "1          1  15883214      513 Women Black & Grey Checked Poncho Sweater   \n",
      "2          2  17743260                        109F Brown Culotte Jumpsuit   \n",
      "3          3  13200776                109F Women Navy Blue Slim Fit Jeans   \n",
      "4          4  16920884          109F Women Black Striped Relaxed Trousers   \n",
      "...      ...       ...                                                ...   \n",
      "14213  14300  17799594                            ZOLA Grey Bootcut Jeans   \n",
      "14214  14301  14579962             ZOLA Women Black Mid-Rise Denim Shorts   \n",
      "14215  14302  17870016  ZOLA Peach-Coloured & Green Floral Printed Cot...   \n",
      "14216  14303  18101028       ZOLA Women Mustard Cotton Print Parade Tunic   \n",
      "14217  14304  17721592      ZOLA Women Blue Lightweight Crop Denim Jacket   \n",
      "\n",
      "      brand  brand_id  price     colour  avg_rating  \n",
      "0       513         1   1699      Black    4.573529  \n",
      "1       513         1   2499      Black    4.486486  \n",
      "2      109F         2   1999      Brown    4.101067  \n",
      "3      109F         2   1899  Navy Blue    4.101067  \n",
      "4      109F         2   1599      Black    4.101067  \n",
      "...     ...       ...    ...        ...         ...  \n",
      "14213  ZOLA      1020   3791       Grey    4.750000  \n",
      "14214  ZOLA      1020   2475      Black    3.807692  \n",
      "14215  ZOLA      1020   1755      Peach    4.101067  \n",
      "14216  ZOLA      1020   5685    Mustard    4.101067  \n",
      "14217  ZOLA      1020   2499       Blue    4.101067  \n",
      "\n",
      "[14218 rows x 8 columns]\n"
     ]
    }
   ],
   "source": [
    "md['avg_rating'].fillna(value=mean, inplace=True) \n",
    "print (md)"
   ]
  },
  {
   "cell_type": "code",
   "execution_count": 60,
   "id": "522aaa9d",
   "metadata": {},
   "outputs": [],
   "source": [
    "from sklearn.preprocessing import MinMaxScaler"
   ]
  },
  {
   "cell_type": "code",
   "execution_count": 61,
   "id": "b44febd6",
   "metadata": {},
   "outputs": [
    {
     "data": {
      "text/html": [
       "<div>\n",
       "<style scoped>\n",
       "    .dataframe tbody tr th:only-of-type {\n",
       "        vertical-align: middle;\n",
       "    }\n",
       "\n",
       "    .dataframe tbody tr th {\n",
       "        vertical-align: top;\n",
       "    }\n",
       "\n",
       "    .dataframe thead th {\n",
       "        text-align: right;\n",
       "    }\n",
       "</style>\n",
       "<table border=\"1\" class=\"dataframe\">\n",
       "  <thead>\n",
       "    <tr style=\"text-align: right;\">\n",
       "      <th></th>\n",
       "      <th>index</th>\n",
       "      <th>p_id</th>\n",
       "      <th>name</th>\n",
       "      <th>brand</th>\n",
       "      <th>brand_id</th>\n",
       "      <th>price</th>\n",
       "      <th>colour</th>\n",
       "      <th>avg_rating</th>\n",
       "    </tr>\n",
       "  </thead>\n",
       "  <tbody>\n",
       "    <tr>\n",
       "      <th>11364</th>\n",
       "      <td>11432</td>\n",
       "      <td>18610814</td>\n",
       "      <td>STREET 9 Women Lime Green Solid Corset Jumpsuit</td>\n",
       "      <td>STREET 9</td>\n",
       "      <td>841</td>\n",
       "      <td>2699</td>\n",
       "      <td>Lime Green</td>\n",
       "      <td>4.200000</td>\n",
       "    </tr>\n",
       "    <tr>\n",
       "      <th>3151</th>\n",
       "      <td>3176</td>\n",
       "      <td>14447490</td>\n",
       "      <td>Dupatta Bazaar Beige &amp; White Ethnic Motifs Emb...</td>\n",
       "      <td>Dupatta Bazaar</td>\n",
       "      <td>242</td>\n",
       "      <td>999</td>\n",
       "      <td>Beige</td>\n",
       "      <td>4.101067</td>\n",
       "    </tr>\n",
       "    <tr>\n",
       "      <th>6150</th>\n",
       "      <td>6190</td>\n",
       "      <td>16955144</td>\n",
       "      <td>Kook N Keech Emoji Women White &amp; Sea Green Pri...</td>\n",
       "      <td>Kook N Keech Emoji</td>\n",
       "      <td>479</td>\n",
       "      <td>2199</td>\n",
       "      <td>White</td>\n",
       "      <td>4.101067</td>\n",
       "    </tr>\n",
       "    <tr>\n",
       "      <th>13820</th>\n",
       "      <td>13905</td>\n",
       "      <td>14829252</td>\n",
       "      <td>Westwood Women Black Skinny Fit Trousers</td>\n",
       "      <td>Westwood</td>\n",
       "      <td>975</td>\n",
       "      <td>1899</td>\n",
       "      <td>Black</td>\n",
       "      <td>5.000000</td>\n",
       "    </tr>\n",
       "    <tr>\n",
       "      <th>12103</th>\n",
       "      <td>12178</td>\n",
       "      <td>17324734</td>\n",
       "      <td>THE WEAVE TRAVELLER Red &amp; Beige Ethnic Motifs ...</td>\n",
       "      <td>THE WEAVE TRAVELLER</td>\n",
       "      <td>892</td>\n",
       "      <td>990</td>\n",
       "      <td>Red</td>\n",
       "      <td>4.101067</td>\n",
       "    </tr>\n",
       "    <tr>\n",
       "      <th>...</th>\n",
       "      <td>...</td>\n",
       "      <td>...</td>\n",
       "      <td>...</td>\n",
       "      <td>...</td>\n",
       "      <td>...</td>\n",
       "      <td>...</td>\n",
       "      <td>...</td>\n",
       "      <td>...</td>\n",
       "    </tr>\n",
       "    <tr>\n",
       "      <th>5414</th>\n",
       "      <td>5448</td>\n",
       "      <td>13652412</td>\n",
       "      <td>Ishin Women Brown Embroidered Kurti with Shara...</td>\n",
       "      <td>Ishin</td>\n",
       "      <td>408</td>\n",
       "      <td>7399</td>\n",
       "      <td>Brown</td>\n",
       "      <td>3.866171</td>\n",
       "    </tr>\n",
       "    <tr>\n",
       "      <th>6657</th>\n",
       "      <td>6697</td>\n",
       "      <td>18882060</td>\n",
       "      <td>Malachi Women Black Washed Denim Shorts</td>\n",
       "      <td>Malachi</td>\n",
       "      <td>541</td>\n",
       "      <td>1599</td>\n",
       "      <td>Black</td>\n",
       "      <td>4.101067</td>\n",
       "    </tr>\n",
       "    <tr>\n",
       "      <th>3550</th>\n",
       "      <td>3576</td>\n",
       "      <td>16012536</td>\n",
       "      <td>Fabindia Blue Embroidered Tunic</td>\n",
       "      <td>Fabindia</td>\n",
       "      <td>278</td>\n",
       "      <td>2690</td>\n",
       "      <td>Blue</td>\n",
       "      <td>4.101067</td>\n",
       "    </tr>\n",
       "    <tr>\n",
       "      <th>5154</th>\n",
       "      <td>5187</td>\n",
       "      <td>11423192</td>\n",
       "      <td>Inddus Lavender Solid Net Saree With Embroidery</td>\n",
       "      <td>Inddus</td>\n",
       "      <td>389</td>\n",
       "      <td>3599</td>\n",
       "      <td>Lavender</td>\n",
       "      <td>4.144044</td>\n",
       "    </tr>\n",
       "    <tr>\n",
       "      <th>10747</th>\n",
       "      <td>10807</td>\n",
       "      <td>14375990</td>\n",
       "      <td>Sera Women Off White &amp; Grey Printed Shrug</td>\n",
       "      <td>Sera</td>\n",
       "      <td>793</td>\n",
       "      <td>2494</td>\n",
       "      <td>Off White</td>\n",
       "      <td>3.000000</td>\n",
       "    </tr>\n",
       "  </tbody>\n",
       "</table>\n",
       "<p>11374 rows × 8 columns</p>\n",
       "</div>"
      ],
      "text/plain": [
       "       index      p_id                                               name  \\\n",
       "11364  11432  18610814    STREET 9 Women Lime Green Solid Corset Jumpsuit   \n",
       "3151    3176  14447490  Dupatta Bazaar Beige & White Ethnic Motifs Emb...   \n",
       "6150    6190  16955144  Kook N Keech Emoji Women White & Sea Green Pri...   \n",
       "13820  13905  14829252           Westwood Women Black Skinny Fit Trousers   \n",
       "12103  12178  17324734  THE WEAVE TRAVELLER Red & Beige Ethnic Motifs ...   \n",
       "...      ...       ...                                                ...   \n",
       "5414    5448  13652412  Ishin Women Brown Embroidered Kurti with Shara...   \n",
       "6657    6697  18882060            Malachi Women Black Washed Denim Shorts   \n",
       "3550    3576  16012536                    Fabindia Blue Embroidered Tunic   \n",
       "5154    5187  11423192    Inddus Lavender Solid Net Saree With Embroidery   \n",
       "10747  10807  14375990          Sera Women Off White & Grey Printed Shrug   \n",
       "\n",
       "                     brand  brand_id  price      colour  avg_rating  \n",
       "11364             STREET 9       841   2699  Lime Green    4.200000  \n",
       "3151        Dupatta Bazaar       242    999       Beige    4.101067  \n",
       "6150    Kook N Keech Emoji       479   2199       White    4.101067  \n",
       "13820             Westwood       975   1899       Black    5.000000  \n",
       "12103  THE WEAVE TRAVELLER       892    990         Red    4.101067  \n",
       "...                    ...       ...    ...         ...         ...  \n",
       "5414                 Ishin       408   7399       Brown    3.866171  \n",
       "6657               Malachi       541   1599       Black    4.101067  \n",
       "3550              Fabindia       278   2690        Blue    4.101067  \n",
       "5154                Inddus       389   3599    Lavender    4.144044  \n",
       "10747                 Sera       793   2494   Off White    3.000000  \n",
       "\n",
       "[11374 rows x 8 columns]"
      ]
     },
     "execution_count": 61,
     "metadata": {},
     "output_type": "execute_result"
    }
   ],
   "source": [
    "training_data = md.sample(frac=0.8, random_state=0)\n",
    "testing_data = md.drop(training_data.index)\n",
    "training_data"
   ]
  },
  {
   "cell_type": "code",
   "execution_count": 62,
   "id": "5b673119",
   "metadata": {},
   "outputs": [],
   "source": [
    "import numpy as np"
   ]
  },
  {
   "cell_type": "code",
   "execution_count": 63,
   "id": "d71b079e",
   "metadata": {},
   "outputs": [
    {
     "data": {
      "text/html": [
       "<div>\n",
       "<style scoped>\n",
       "    .dataframe tbody tr th:only-of-type {\n",
       "        vertical-align: middle;\n",
       "    }\n",
       "\n",
       "    .dataframe tbody tr th {\n",
       "        vertical-align: top;\n",
       "    }\n",
       "\n",
       "    .dataframe thead th {\n",
       "        text-align: right;\n",
       "    }\n",
       "</style>\n",
       "<table border=\"1\" class=\"dataframe\">\n",
       "  <thead>\n",
       "    <tr style=\"text-align: right;\">\n",
       "      <th></th>\n",
       "      <th>index</th>\n",
       "      <th>p_id</th>\n",
       "      <th>name</th>\n",
       "      <th>brand</th>\n",
       "      <th>brand_id</th>\n",
       "      <th>price</th>\n",
       "      <th>colour</th>\n",
       "      <th>avg_rating</th>\n",
       "    </tr>\n",
       "  </thead>\n",
       "  <tbody>\n",
       "    <tr>\n",
       "      <th>0</th>\n",
       "      <td>0</td>\n",
       "      <td>13158392</td>\n",
       "      <td>513 Women Black &amp; Grey Woven-Design Kimono Shrug</td>\n",
       "      <td>513</td>\n",
       "      <td>1</td>\n",
       "      <td>1699</td>\n",
       "      <td>Black</td>\n",
       "      <td>4.573529</td>\n",
       "    </tr>\n",
       "    <tr>\n",
       "      <th>1</th>\n",
       "      <td>1</td>\n",
       "      <td>15883214</td>\n",
       "      <td>513 Women Black &amp; Grey Checked Poncho Sweater</td>\n",
       "      <td>513</td>\n",
       "      <td>1</td>\n",
       "      <td>2499</td>\n",
       "      <td>Black</td>\n",
       "      <td>4.486486</td>\n",
       "    </tr>\n",
       "    <tr>\n",
       "      <th>2</th>\n",
       "      <td>2</td>\n",
       "      <td>17743260</td>\n",
       "      <td>109F Brown Culotte Jumpsuit</td>\n",
       "      <td>109F</td>\n",
       "      <td>2</td>\n",
       "      <td>1999</td>\n",
       "      <td>Brown</td>\n",
       "      <td>4.101067</td>\n",
       "    </tr>\n",
       "    <tr>\n",
       "      <th>3</th>\n",
       "      <td>3</td>\n",
       "      <td>13200776</td>\n",
       "      <td>109F Women Navy Blue Slim Fit Jeans</td>\n",
       "      <td>109F</td>\n",
       "      <td>2</td>\n",
       "      <td>1899</td>\n",
       "      <td>Navy Blue</td>\n",
       "      <td>4.101067</td>\n",
       "    </tr>\n",
       "    <tr>\n",
       "      <th>4</th>\n",
       "      <td>4</td>\n",
       "      <td>16920884</td>\n",
       "      <td>109F Women Black Striped Relaxed Trousers</td>\n",
       "      <td>109F</td>\n",
       "      <td>2</td>\n",
       "      <td>1599</td>\n",
       "      <td>Black</td>\n",
       "      <td>4.101067</td>\n",
       "    </tr>\n",
       "    <tr>\n",
       "      <th>...</th>\n",
       "      <td>...</td>\n",
       "      <td>...</td>\n",
       "      <td>...</td>\n",
       "      <td>...</td>\n",
       "      <td>...</td>\n",
       "      <td>...</td>\n",
       "      <td>...</td>\n",
       "      <td>...</td>\n",
       "    </tr>\n",
       "    <tr>\n",
       "      <th>14213</th>\n",
       "      <td>14300</td>\n",
       "      <td>17799594</td>\n",
       "      <td>ZOLA Grey Bootcut Jeans</td>\n",
       "      <td>ZOLA</td>\n",
       "      <td>1020</td>\n",
       "      <td>3791</td>\n",
       "      <td>Grey</td>\n",
       "      <td>4.750000</td>\n",
       "    </tr>\n",
       "    <tr>\n",
       "      <th>14214</th>\n",
       "      <td>14301</td>\n",
       "      <td>14579962</td>\n",
       "      <td>ZOLA Women Black Mid-Rise Denim Shorts</td>\n",
       "      <td>ZOLA</td>\n",
       "      <td>1020</td>\n",
       "      <td>2475</td>\n",
       "      <td>Black</td>\n",
       "      <td>3.807692</td>\n",
       "    </tr>\n",
       "    <tr>\n",
       "      <th>14215</th>\n",
       "      <td>14302</td>\n",
       "      <td>17870016</td>\n",
       "      <td>ZOLA Peach-Coloured &amp; Green Floral Printed Cot...</td>\n",
       "      <td>ZOLA</td>\n",
       "      <td>1020</td>\n",
       "      <td>1755</td>\n",
       "      <td>Peach</td>\n",
       "      <td>4.101067</td>\n",
       "    </tr>\n",
       "    <tr>\n",
       "      <th>14216</th>\n",
       "      <td>14303</td>\n",
       "      <td>18101028</td>\n",
       "      <td>ZOLA Women Mustard Cotton Print Parade Tunic</td>\n",
       "      <td>ZOLA</td>\n",
       "      <td>1020</td>\n",
       "      <td>5685</td>\n",
       "      <td>Mustard</td>\n",
       "      <td>4.101067</td>\n",
       "    </tr>\n",
       "    <tr>\n",
       "      <th>14217</th>\n",
       "      <td>14304</td>\n",
       "      <td>17721592</td>\n",
       "      <td>ZOLA Women Blue Lightweight Crop Denim Jacket</td>\n",
       "      <td>ZOLA</td>\n",
       "      <td>1020</td>\n",
       "      <td>2499</td>\n",
       "      <td>Blue</td>\n",
       "      <td>4.101067</td>\n",
       "    </tr>\n",
       "  </tbody>\n",
       "</table>\n",
       "<p>14218 rows × 8 columns</p>\n",
       "</div>"
      ],
      "text/plain": [
       "       index      p_id                                               name  \\\n",
       "0          0  13158392   513 Women Black & Grey Woven-Design Kimono Shrug   \n",
       "1          1  15883214      513 Women Black & Grey Checked Poncho Sweater   \n",
       "2          2  17743260                        109F Brown Culotte Jumpsuit   \n",
       "3          3  13200776                109F Women Navy Blue Slim Fit Jeans   \n",
       "4          4  16920884          109F Women Black Striped Relaxed Trousers   \n",
       "...      ...       ...                                                ...   \n",
       "14213  14300  17799594                            ZOLA Grey Bootcut Jeans   \n",
       "14214  14301  14579962             ZOLA Women Black Mid-Rise Denim Shorts   \n",
       "14215  14302  17870016  ZOLA Peach-Coloured & Green Floral Printed Cot...   \n",
       "14216  14303  18101028       ZOLA Women Mustard Cotton Print Parade Tunic   \n",
       "14217  14304  17721592      ZOLA Women Blue Lightweight Crop Denim Jacket   \n",
       "\n",
       "      brand  brand_id  price     colour  avg_rating  \n",
       "0       513         1   1699      Black    4.573529  \n",
       "1       513         1   2499      Black    4.486486  \n",
       "2      109F         2   1999      Brown    4.101067  \n",
       "3      109F         2   1899  Navy Blue    4.101067  \n",
       "4      109F         2   1599      Black    4.101067  \n",
       "...     ...       ...    ...        ...         ...  \n",
       "14213  ZOLA      1020   3791       Grey    4.750000  \n",
       "14214  ZOLA      1020   2475      Black    3.807692  \n",
       "14215  ZOLA      1020   1755      Peach    4.101067  \n",
       "14216  ZOLA      1020   5685    Mustard    4.101067  \n",
       "14217  ZOLA      1020   2499       Blue    4.101067  \n",
       "\n",
       "[14218 rows x 8 columns]"
      ]
     },
     "execution_count": 63,
     "metadata": {},
     "output_type": "execute_result"
    }
   ],
   "source": [
    "md"
   ]
  },
  {
   "cell_type": "code",
   "execution_count": 65,
   "id": "218e6c7c",
   "metadata": {},
   "outputs": [
    {
     "data": {
      "text/plain": [
       "array([[1.        , 0.07109781],\n",
       "       [0.07109781, 1.        ]])"
      ]
     },
     "execution_count": 65,
     "metadata": {},
     "output_type": "execute_result"
    }
   ],
   "source": [
    "np.corrcoef(md.brand_id, md.price)"
   ]
  },
  {
   "cell_type": "code",
   "execution_count": null,
   "id": "d2620aeb",
   "metadata": {},
   "outputs": [],
   "source": []
  },
  {
   "cell_type": "code",
   "execution_count": 66,
   "id": "c79fc03e",
   "metadata": {},
   "outputs": [
    {
     "name": "stderr",
     "output_type": "stream",
     "text": [
      "/opt/anaconda3/lib/python3.9/site-packages/seaborn/_decorators.py:36: FutureWarning: Pass the following variable as a keyword arg: x. From version 0.12, the only valid positional argument will be `data`, and passing other arguments without an explicit keyword will result in an error or misinterpretation.\n",
      "  warnings.warn(\n"
     ]
    },
    {
     "data": {
      "text/plain": [
       "<AxesSubplot:xlabel='p_id'>"
      ]
     },
     "execution_count": 66,
     "metadata": {},
     "output_type": "execute_result"
    },
    {
     "data": {
      "image/png": "[encoded data removed]",
      "text/plain": [
       "<Figure size 432x288 with 1 Axes>"
      ]
     },
     "metadata": {
      "needs_background": "light"
     },
     "output_type": "display_data"
    }
   ],
   "source": [
    "import seaborn as sns\n",
    "sns.boxplot(md['p_id'])"
   ]
  },
  {
   "cell_type": "code",
   "execution_count": 67,
   "id": "1ad04a0b",
   "metadata": {},
   "outputs": [
    {
     "name": "stderr",
     "output_type": "stream",
     "text": [
      "/opt/anaconda3/lib/python3.9/site-packages/seaborn/_decorators.py:36: FutureWarning: Pass the following variable as a keyword arg: x. From version 0.12, the only valid positional argument will be `data`, and passing other arguments without an explicit keyword will result in an error or misinterpretation.\n",
      "  warnings.warn(\n"
     ]
    },
    {
     "data": {
      "text/plain": [
       "<AxesSubplot:xlabel='brand_id'>"
      ]
     },
     "execution_count": 67,
     "metadata": {},
     "output_type": "execute_result"
    },
    {
     "data": {
      "image/png": "[encoded data removed]",
      "text/plain": [
       "<Figure size 432x288 with 1 Axes>"
      ]
     },
     "metadata": {
      "needs_background": "light"
     },
     "output_type": "display_data"
    }
   ],
   "source": [
    "sns.boxplot(md['brand_id'])"
   ]
  },
  {
   "cell_type": "code",
   "execution_count": 68,
   "id": "882c3d85",
   "metadata": {},
   "outputs": [
    {
     "name": "stderr",
     "output_type": "stream",
     "text": [
      "/opt/anaconda3/lib/python3.9/site-packages/seaborn/_decorators.py:36: FutureWarning: Pass the following variable as a keyword arg: x. From version 0.12, the only valid positional argument will be `data`, and passing other arguments without an explicit keyword will result in an error or misinterpretation.\n",
      "  warnings.warn(\n"
     ]
    },
    {
     "data": {
      "text/plain": [
       "<AxesSubplot:xlabel='price'>"
      ]
     },
     "execution_count": 68,
     "metadata": {},
     "output_type": "execute_result"
    },
    {
     "data": {
      "image/png": "[encoded data removed]",
      "text/plain": [
       "<Figure size 432x288 with 1 Axes>"
      ]
     },
     "metadata": {
      "needs_background": "light"
     },
     "output_type": "display_data"
    }
   ],
   "source": [
    "sns.boxplot(md['price'])"
   ]
  },
  {
   "cell_type": "code",
   "execution_count": 69,
   "id": "e12203c9",
   "metadata": {},
   "outputs": [
    {
     "name": "stderr",
     "output_type": "stream",
     "text": [
      "/opt/anaconda3/lib/python3.9/site-packages/seaborn/_decorators.py:36: FutureWarning: Pass the following variable as a keyword arg: x. From version 0.12, the only valid positional argument will be `data`, and passing other arguments without an explicit keyword will result in an error or misinterpretation.\n",
      "  warnings.warn(\n"
     ]
    },
    {
     "data": {
      "text/plain": [
       "<AxesSubplot:xlabel='avg_rating'>"
      ]
     },
     "execution_count": 69,
     "metadata": {},
     "output_type": "execute_result"
    },
    {
     "data": {
      "image/png": "[encoded data removed]",
      "text/plain": [
       "<Figure size 432x288 with 1 Axes>"
      ]
     },
     "metadata": {
      "needs_background": "light"
     },
     "output_type": "display_data"
    }
   ],
   "source": [
    "sns.boxplot(md['avg_rating'])"
   ]
  },
  {
   "cell_type": "code",
   "execution_count": 70,
   "id": "ac511a2b",
   "metadata": {},
   "outputs": [],
   "source": [
    "upper_limit = md['p_id'].quantile(0.99)\n",
    "lower_limit = md['p_id'].quantile(0.01)"
   ]
  },
  {
   "cell_type": "code",
   "execution_count": 71,
   "id": "dc010fd3",
   "metadata": {},
   "outputs": [
    {
     "data": {
      "text/html": [
       "<div>\n",
       "<style scoped>\n",
       "    .dataframe tbody tr th:only-of-type {\n",
       "        vertical-align: middle;\n",
       "    }\n",
       "\n",
       "    .dataframe tbody tr th {\n",
       "        vertical-align: top;\n",
       "    }\n",
       "\n",
       "    .dataframe thead th {\n",
       "        text-align: right;\n",
       "    }\n",
       "</style>\n",
       "<table border=\"1\" class=\"dataframe\">\n",
       "  <thead>\n",
       "    <tr style=\"text-align: right;\">\n",
       "      <th></th>\n",
       "      <th>Unnamed: 0</th>\n",
       "      <th>merged_data.p_id</th>\n",
       "      <th>merged_data.name</th>\n",
       "      <th>merged_data.brand</th>\n",
       "      <th>merged_data.brand_id</th>\n",
       "      <th>merged_data.price</th>\n",
       "      <th>merged_data.colour</th>\n",
       "      <th>merged_data.avg_rating</th>\n",
       "    </tr>\n",
       "  </thead>\n",
       "  <tbody>\n",
       "    <tr>\n",
       "      <th>193</th>\n",
       "      <td>193</td>\n",
       "      <td>2162657</td>\n",
       "      <td>ADIVA Girls Teal Blue &amp; Beige Woven Design Kur...</td>\n",
       "      <td>ADIVA</td>\n",
       "      <td>32</td>\n",
       "      <td>3999</td>\n",
       "      <td>Teal</td>\n",
       "      <td>3.750000</td>\n",
       "    </tr>\n",
       "    <tr>\n",
       "      <th>590</th>\n",
       "      <td>594</td>\n",
       "      <td>1753301</td>\n",
       "      <td>Amante Women Black Sports Shorts</td>\n",
       "      <td>Amante</td>\n",
       "      <td>55</td>\n",
       "      <td>1495</td>\n",
       "      <td>Black</td>\n",
       "      <td>4.444444</td>\n",
       "    </tr>\n",
       "    <tr>\n",
       "      <th>628</th>\n",
       "      <td>632</td>\n",
       "      <td>19378614</td>\n",
       "      <td>Amrutam Fab Olive Green &amp; Gold-Toned Embroider...</td>\n",
       "      <td>Amrutam Fab</td>\n",
       "      <td>61</td>\n",
       "      <td>11999</td>\n",
       "      <td>Olive</td>\n",
       "      <td>4.101067</td>\n",
       "    </tr>\n",
       "    <tr>\n",
       "      <th>964</th>\n",
       "      <td>972</td>\n",
       "      <td>19380220</td>\n",
       "      <td>ANTI CULTURE Women Green Navy Blue Colourblock...</td>\n",
       "      <td>ANTI CULTURE</td>\n",
       "      <td>78</td>\n",
       "      <td>1832</td>\n",
       "      <td>Green</td>\n",
       "      <td>4.101067</td>\n",
       "    </tr>\n",
       "    <tr>\n",
       "      <th>965</th>\n",
       "      <td>973</td>\n",
       "      <td>19380214</td>\n",
       "      <td>ANTI CULTURE Women Blue Windcheater and Water ...</td>\n",
       "      <td>ANTI CULTURE</td>\n",
       "      <td>78</td>\n",
       "      <td>1832</td>\n",
       "      <td>Blue</td>\n",
       "      <td>4.101067</td>\n",
       "    </tr>\n",
       "    <tr>\n",
       "      <th>...</th>\n",
       "      <td>...</td>\n",
       "      <td>...</td>\n",
       "      <td>...</td>\n",
       "      <td>...</td>\n",
       "      <td>...</td>\n",
       "      <td>...</td>\n",
       "      <td>...</td>\n",
       "      <td>...</td>\n",
       "    </tr>\n",
       "    <tr>\n",
       "      <th>13852</th>\n",
       "      <td>13937</td>\n",
       "      <td>19372820</td>\n",
       "      <td>White World Girls Orange &amp; Black Mirror Work R...</td>\n",
       "      <td>White World</td>\n",
       "      <td>977</td>\n",
       "      <td>4999</td>\n",
       "      <td>Orange</td>\n",
       "      <td>4.101067</td>\n",
       "    </tr>\n",
       "    <tr>\n",
       "      <th>13988</th>\n",
       "      <td>14073</td>\n",
       "      <td>19351030</td>\n",
       "      <td>Zainab chottani Blue Beads and Stones Pure Geo...</td>\n",
       "      <td>Zainab chottani</td>\n",
       "      <td>1002</td>\n",
       "      <td>2999</td>\n",
       "      <td>Blue</td>\n",
       "      <td>4.101067</td>\n",
       "    </tr>\n",
       "    <tr>\n",
       "      <th>13989</th>\n",
       "      <td>14074</td>\n",
       "      <td>19356444</td>\n",
       "      <td>Zainab chottani Grey &amp; Blue Pure Georgette Blo...</td>\n",
       "      <td>Zainab chottani</td>\n",
       "      <td>1002</td>\n",
       "      <td>2999</td>\n",
       "      <td>Grey</td>\n",
       "      <td>4.101067</td>\n",
       "    </tr>\n",
       "    <tr>\n",
       "      <th>13990</th>\n",
       "      <td>14075</td>\n",
       "      <td>19350414</td>\n",
       "      <td>Zainab chottani Black &amp; Pink Floral Pure Georg...</td>\n",
       "      <td>Zainab chottani</td>\n",
       "      <td>1002</td>\n",
       "      <td>2999</td>\n",
       "      <td>Black</td>\n",
       "      <td>4.101067</td>\n",
       "    </tr>\n",
       "    <tr>\n",
       "      <th>13991</th>\n",
       "      <td>14076</td>\n",
       "      <td>19358356</td>\n",
       "      <td>Zainab chottani Women Grey &amp; Red Embroidered P...</td>\n",
       "      <td>Zainab chottani</td>\n",
       "      <td>1002</td>\n",
       "      <td>2999</td>\n",
       "      <td>Grey</td>\n",
       "      <td>4.101067</td>\n",
       "    </tr>\n",
       "  </tbody>\n",
       "</table>\n",
       "<p>286 rows × 8 columns</p>\n",
       "</div>"
      ],
      "text/plain": [
       "       Unnamed: 0  merged_data.p_id  \\\n",
       "193           193           2162657   \n",
       "590           594           1753301   \n",
       "628           632          19378614   \n",
       "964           972          19380220   \n",
       "965           973          19380214   \n",
       "...           ...               ...   \n",
       "13852       13937          19372820   \n",
       "13988       14073          19351030   \n",
       "13989       14074          19356444   \n",
       "13990       14075          19350414   \n",
       "13991       14076          19358356   \n",
       "\n",
       "                                        merged_data.name merged_data.brand  \\\n",
       "193    ADIVA Girls Teal Blue & Beige Woven Design Kur...             ADIVA   \n",
       "590                     Amante Women Black Sports Shorts            Amante   \n",
       "628    Amrutam Fab Olive Green & Gold-Toned Embroider...       Amrutam Fab   \n",
       "964    ANTI CULTURE Women Green Navy Blue Colourblock...      ANTI CULTURE   \n",
       "965    ANTI CULTURE Women Blue Windcheater and Water ...      ANTI CULTURE   \n",
       "...                                                  ...               ...   \n",
       "13852  White World Girls Orange & Black Mirror Work R...       White World   \n",
       "13988  Zainab chottani Blue Beads and Stones Pure Geo...   Zainab chottani   \n",
       "13989  Zainab chottani Grey & Blue Pure Georgette Blo...   Zainab chottani   \n",
       "13990  Zainab chottani Black & Pink Floral Pure Georg...   Zainab chottani   \n",
       "13991  Zainab chottani Women Grey & Red Embroidered P...   Zainab chottani   \n",
       "\n",
       "       merged_data.brand_id  merged_data.price merged_data.colour  \\\n",
       "193                      32               3999               Teal   \n",
       "590                      55               1495              Black   \n",
       "628                      61              11999              Olive   \n",
       "964                      78               1832              Green   \n",
       "965                      78               1832               Blue   \n",
       "...                     ...                ...                ...   \n",
       "13852                   977               4999             Orange   \n",
       "13988                  1002               2999               Blue   \n",
       "13989                  1002               2999               Grey   \n",
       "13990                  1002               2999              Black   \n",
       "13991                  1002               2999               Grey   \n",
       "\n",
       "       merged_data.avg_rating  \n",
       "193                  3.750000  \n",
       "590                  4.444444  \n",
       "628                  4.101067  \n",
       "964                  4.101067  \n",
       "965                  4.101067  \n",
       "...                       ...  \n",
       "13852                4.101067  \n",
       "13988                4.101067  \n",
       "13989                4.101067  \n",
       "13990                4.101067  \n",
       "13991                4.101067  \n",
       "\n",
       "[286 rows x 8 columns]"
      ]
     },
     "execution_count": 71,
     "metadata": {},
     "output_type": "execute_result"
    }
   ],
   "source": [
    "merged_data.loc[(md['p_id']> upper_limit) | (md['p_id'] < lower_limit)]"
   ]
  },
  {
   "cell_type": "code",
   "execution_count": 72,
   "id": "a2a53d1b",
   "metadata": {},
   "outputs": [
    {
     "name": "stdout",
     "output_type": "stream",
     "text": [
      "before removing outliers:  14218\n",
      "after removing outliers:  13932\n"
     ]
    }
   ],
   "source": [
    "md_df= md.copy()\n",
    "md_df= md.loc[(md['p_id'] < upper_limit) & (md['p_id'] > lower_limit)]\n",
    "print('before removing outliers: ', len(md))\n",
    "print('after removing outliers: ', len(md_df))"
   ]
  },
  {
   "cell_type": "code",
   "execution_count": 73,
   "id": "abf9d4bc",
   "metadata": {},
   "outputs": [
    {
     "name": "stderr",
     "output_type": "stream",
     "text": [
      "/opt/anaconda3/lib/python3.9/site-packages/seaborn/_decorators.py:36: FutureWarning: Pass the following variable as a keyword arg: x. From version 0.12, the only valid positional argument will be `data`, and passing other arguments without an explicit keyword will result in an error or misinterpretation.\n",
      "  warnings.warn(\n"
     ]
    },
    {
     "data": {
      "text/plain": [
       "<AxesSubplot:xlabel='p_id'>"
      ]
     },
     "execution_count": 73,
     "metadata": {},
     "output_type": "execute_result"
    },
    {
     "data": {
      "image/png": "[encoded data removed]",
      "text/plain": [
       "<Figure size 432x288 with 1 Axes>"
      ]
     },
     "metadata": {
      "needs_background": "light"
     },
     "output_type": "display_data"
    }
   ],
   "source": [
    "sns.boxplot(md_df['p_id'])"
   ]
  },
  {
   "cell_type": "code",
   "execution_count": 76,
   "id": "bd18e3b4",
   "metadata": {},
   "outputs": [],
   "source": [
    "upper_b = md_df['price'].quantile(0.99)\n",
    "lower_b = md_df['price'].quantile(0.01)"
   ]
  },
  {
   "cell_type": "code",
   "execution_count": 78,
   "id": "95d7ea44",
   "metadata": {},
   "outputs": [
    {
     "name": "stdout",
     "output_type": "stream",
     "text": [
      "before removing outliers:  14218\n",
      "after removing outliers:  13579\n"
     ]
    }
   ],
   "source": [
    "md_df1 = md_df.loc[(md_df['price'] < upper_b) & (md_df['price'] > lower_b)]\n",
    "print('before removing outliers: ', len(md))\n",
    "print('after removing outliers: ', len(md_df1))"
   ]
  },
  {
   "cell_type": "code",
   "execution_count": 79,
   "id": "4ec2d06a",
   "metadata": {
    "scrolled": true
   },
   "outputs": [
    {
     "name": "stderr",
     "output_type": "stream",
     "text": [
      "/opt/anaconda3/lib/python3.9/site-packages/seaborn/_decorators.py:36: FutureWarning: Pass the following variable as a keyword arg: x. From version 0.12, the only valid positional argument will be `data`, and passing other arguments without an explicit keyword will result in an error or misinterpretation.\n",
      "  warnings.warn(\n"
     ]
    },
    {
     "data": {
      "text/plain": [
       "<AxesSubplot:xlabel='price'>"
      ]
     },
     "execution_count": 79,
     "metadata": {},
     "output_type": "execute_result"
    },
    {
     "data": {
      "image/png": "[encoded data removed]",
      "text/plain": [
       "<Figure size 432x288 with 1 Axes>"
      ]
     },
     "metadata": {
      "needs_background": "light"
     },
     "output_type": "display_data"
    }
   ],
   "source": [
    "sns.boxplot(md_df1['price'])"
   ]
  },
  {
   "cell_type": "code",
   "execution_count": 80,
   "id": "93393636",
   "metadata": {},
   "outputs": [
    {
     "name": "stderr",
     "output_type": "stream",
     "text": [
      "/opt/anaconda3/lib/python3.9/site-packages/seaborn/distributions.py:2619: FutureWarning: `distplot` is a deprecated function and will be removed in a future version. Please adapt your code to use either `displot` (a figure-level function with similar flexibility) or `histplot` (an axes-level function for histograms).\n",
      "  warnings.warn(msg, FutureWarning)\n"
     ]
    },
    {
     "data": {
      "text/plain": [
       "<AxesSubplot:xlabel='p_id', ylabel='Density'>"
      ]
     },
     "execution_count": 80,
     "metadata": {},
     "output_type": "execute_result"
    },
    {
     "data": {
      "image/png": "[encoded data removed]",
      "text/plain": [
       "<Figure size 432x288 with 1 Axes>"
      ]
     },
     "metadata": {
      "needs_background": "light"
     },
     "output_type": "display_data"
    }
   ],
   "source": [
    "sns.distplot(md_df1['p_id'])"
   ]
  },
  {
   "cell_type": "code",
   "execution_count": 81,
   "id": "7e416b8c",
   "metadata": {},
   "outputs": [
    {
     "data": {
      "text/plain": [
       "array([ 2,  2,  5, ..., 33, 27,  3])"
      ]
     },
     "execution_count": 81,
     "metadata": {},
     "output_type": "execute_result"
    }
   ],
   "source": [
    "from sklearn.preprocessing import LabelEncoder\n",
    " \n",
    "le = LabelEncoder()\n",
    " \n",
    "label = le.fit_transform(md['colour'])\n",
    " \n",
    "label"
   ]
  },
  {
   "cell_type": "code",
   "execution_count": 82,
   "id": "390f29d2",
   "metadata": {},
   "outputs": [],
   "source": [
    "md['colour_ref'] = label"
   ]
  },
  {
   "cell_type": "code",
   "execution_count": 83,
   "id": "e77017d0",
   "metadata": {},
   "outputs": [
    {
     "data": {
      "text/html": [
       "<div>\n",
       "<style scoped>\n",
       "    .dataframe tbody tr th:only-of-type {\n",
       "        vertical-align: middle;\n",
       "    }\n",
       "\n",
       "    .dataframe tbody tr th {\n",
       "        vertical-align: top;\n",
       "    }\n",
       "\n",
       "    .dataframe thead th {\n",
       "        text-align: right;\n",
       "    }\n",
       "</style>\n",
       "<table border=\"1\" class=\"dataframe\">\n",
       "  <thead>\n",
       "    <tr style=\"text-align: right;\">\n",
       "      <th></th>\n",
       "      <th>index</th>\n",
       "      <th>p_id</th>\n",
       "      <th>name</th>\n",
       "      <th>brand</th>\n",
       "      <th>brand_id</th>\n",
       "      <th>price</th>\n",
       "      <th>colour</th>\n",
       "      <th>avg_rating</th>\n",
       "      <th>colour_ref</th>\n",
       "    </tr>\n",
       "  </thead>\n",
       "  <tbody>\n",
       "    <tr>\n",
       "      <th>0</th>\n",
       "      <td>0</td>\n",
       "      <td>13158392</td>\n",
       "      <td>513 Women Black &amp; Grey Woven-Design Kimono Shrug</td>\n",
       "      <td>513</td>\n",
       "      <td>1</td>\n",
       "      <td>1699</td>\n",
       "      <td>Black</td>\n",
       "      <td>4.573529</td>\n",
       "      <td>2</td>\n",
       "    </tr>\n",
       "    <tr>\n",
       "      <th>1</th>\n",
       "      <td>1</td>\n",
       "      <td>15883214</td>\n",
       "      <td>513 Women Black &amp; Grey Checked Poncho Sweater</td>\n",
       "      <td>513</td>\n",
       "      <td>1</td>\n",
       "      <td>2499</td>\n",
       "      <td>Black</td>\n",
       "      <td>4.486486</td>\n",
       "      <td>2</td>\n",
       "    </tr>\n",
       "    <tr>\n",
       "      <th>2</th>\n",
       "      <td>2</td>\n",
       "      <td>17743260</td>\n",
       "      <td>109F Brown Culotte Jumpsuit</td>\n",
       "      <td>109F</td>\n",
       "      <td>2</td>\n",
       "      <td>1999</td>\n",
       "      <td>Brown</td>\n",
       "      <td>4.101067</td>\n",
       "      <td>5</td>\n",
       "    </tr>\n",
       "    <tr>\n",
       "      <th>3</th>\n",
       "      <td>3</td>\n",
       "      <td>13200776</td>\n",
       "      <td>109F Women Navy Blue Slim Fit Jeans</td>\n",
       "      <td>109F</td>\n",
       "      <td>2</td>\n",
       "      <td>1899</td>\n",
       "      <td>Navy Blue</td>\n",
       "      <td>4.101067</td>\n",
       "      <td>28</td>\n",
       "    </tr>\n",
       "    <tr>\n",
       "      <th>4</th>\n",
       "      <td>4</td>\n",
       "      <td>16920884</td>\n",
       "      <td>109F Women Black Striped Relaxed Trousers</td>\n",
       "      <td>109F</td>\n",
       "      <td>2</td>\n",
       "      <td>1599</td>\n",
       "      <td>Black</td>\n",
       "      <td>4.101067</td>\n",
       "      <td>2</td>\n",
       "    </tr>\n",
       "    <tr>\n",
       "      <th>...</th>\n",
       "      <td>...</td>\n",
       "      <td>...</td>\n",
       "      <td>...</td>\n",
       "      <td>...</td>\n",
       "      <td>...</td>\n",
       "      <td>...</td>\n",
       "      <td>...</td>\n",
       "      <td>...</td>\n",
       "      <td>...</td>\n",
       "    </tr>\n",
       "    <tr>\n",
       "      <th>14213</th>\n",
       "      <td>14300</td>\n",
       "      <td>17799594</td>\n",
       "      <td>ZOLA Grey Bootcut Jeans</td>\n",
       "      <td>ZOLA</td>\n",
       "      <td>1020</td>\n",
       "      <td>3791</td>\n",
       "      <td>Grey</td>\n",
       "      <td>4.750000</td>\n",
       "      <td>18</td>\n",
       "    </tr>\n",
       "    <tr>\n",
       "      <th>14214</th>\n",
       "      <td>14301</td>\n",
       "      <td>14579962</td>\n",
       "      <td>ZOLA Women Black Mid-Rise Denim Shorts</td>\n",
       "      <td>ZOLA</td>\n",
       "      <td>1020</td>\n",
       "      <td>2475</td>\n",
       "      <td>Black</td>\n",
       "      <td>3.807692</td>\n",
       "      <td>2</td>\n",
       "    </tr>\n",
       "    <tr>\n",
       "      <th>14215</th>\n",
       "      <td>14302</td>\n",
       "      <td>17870016</td>\n",
       "      <td>ZOLA Peach-Coloured &amp; Green Floral Printed Cot...</td>\n",
       "      <td>ZOLA</td>\n",
       "      <td>1020</td>\n",
       "      <td>1755</td>\n",
       "      <td>Peach</td>\n",
       "      <td>4.101067</td>\n",
       "      <td>33</td>\n",
       "    </tr>\n",
       "    <tr>\n",
       "      <th>14216</th>\n",
       "      <td>14303</td>\n",
       "      <td>18101028</td>\n",
       "      <td>ZOLA Women Mustard Cotton Print Parade Tunic</td>\n",
       "      <td>ZOLA</td>\n",
       "      <td>1020</td>\n",
       "      <td>5685</td>\n",
       "      <td>Mustard</td>\n",
       "      <td>4.101067</td>\n",
       "      <td>27</td>\n",
       "    </tr>\n",
       "    <tr>\n",
       "      <th>14217</th>\n",
       "      <td>14304</td>\n",
       "      <td>17721592</td>\n",
       "      <td>ZOLA Women Blue Lightweight Crop Denim Jacket</td>\n",
       "      <td>ZOLA</td>\n",
       "      <td>1020</td>\n",
       "      <td>2499</td>\n",
       "      <td>Blue</td>\n",
       "      <td>4.101067</td>\n",
       "      <td>3</td>\n",
       "    </tr>\n",
       "  </tbody>\n",
       "</table>\n",
       "<p>14218 rows × 9 columns</p>\n",
       "</div>"
      ],
      "text/plain": [
       "       index      p_id                                               name  \\\n",
       "0          0  13158392   513 Women Black & Grey Woven-Design Kimono Shrug   \n",
       "1          1  15883214      513 Women Black & Grey Checked Poncho Sweater   \n",
       "2          2  17743260                        109F Brown Culotte Jumpsuit   \n",
       "3          3  13200776                109F Women Navy Blue Slim Fit Jeans   \n",
       "4          4  16920884          109F Women Black Striped Relaxed Trousers   \n",
       "...      ...       ...                                                ...   \n",
       "14213  14300  17799594                            ZOLA Grey Bootcut Jeans   \n",
       "14214  14301  14579962             ZOLA Women Black Mid-Rise Denim Shorts   \n",
       "14215  14302  17870016  ZOLA Peach-Coloured & Green Floral Printed Cot...   \n",
       "14216  14303  18101028       ZOLA Women Mustard Cotton Print Parade Tunic   \n",
       "14217  14304  17721592      ZOLA Women Blue Lightweight Crop Denim Jacket   \n",
       "\n",
       "      brand  brand_id  price     colour  avg_rating  colour_ref  \n",
       "0       513         1   1699      Black    4.573529           2  \n",
       "1       513         1   2499      Black    4.486486           2  \n",
       "2      109F         2   1999      Brown    4.101067           5  \n",
       "3      109F         2   1899  Navy Blue    4.101067          28  \n",
       "4      109F         2   1599      Black    4.101067           2  \n",
       "...     ...       ...    ...        ...         ...         ...  \n",
       "14213  ZOLA      1020   3791       Grey    4.750000          18  \n",
       "14214  ZOLA      1020   2475      Black    3.807692           2  \n",
       "14215  ZOLA      1020   1755      Peach    4.101067          33  \n",
       "14216  ZOLA      1020   5685    Mustard    4.101067          27  \n",
       "14217  ZOLA      1020   2499       Blue    4.101067           3  \n",
       "\n",
       "[14218 rows x 9 columns]"
      ]
     },
     "execution_count": 83,
     "metadata": {},
     "output_type": "execute_result"
    }
   ],
   "source": [
    "md"
   ]
  },
  {
   "cell_type": "code",
   "execution_count": 84,
   "id": "4c3a7ecc",
   "metadata": {},
   "outputs": [],
   "source": [
    "training_data = md.sample(frac=0.8, random_state=0)\n",
    "testing_data = md.drop(training_data.index)"
   ]
  },
  {
   "cell_type": "code",
   "execution_count": 85,
   "id": "c0ec05b9",
   "metadata": {},
   "outputs": [],
   "source": [
    "scaler = MinMaxScaler()\n",
    "scaler.fit(training_data[['p_id']])\n",
    "training_data[['p_id']] = scaler.transform(training_data[['p_id']])\n",
    "scaler.fit(training_data[['brand_id']])\n",
    "training_data[['brand_id']] = scaler.transform(training_data[['brand_id']])\n",
    "scaler.fit(training_data[['colour_ref']])\n",
    "training_data[['colour_ref']] = scaler.transform(training_data[['colour_ref']])\n",
    "scaler.fit(training_data[['price']])\n",
    "training_data[['price']] = scaler.transform(training_data[['price']])"
   ]
  },
  {
   "cell_type": "code",
   "execution_count": 86,
   "id": "7f3ffe61",
   "metadata": {},
   "outputs": [],
   "source": [
    "scaler.fit(testing_data[['p_id']])\n",
    "testing_data[['p_id']]= scaler.transform(testing_data[['p_id']])\n",
    "scaler.fit(testing_data[['brand_id']])\n",
    "testing_data[['brand_id']]= scaler.transform(testing_data[['brand_id']])\n",
    "scaler.fit(testing_data[['colour_ref']])\n",
    "testing_data[['colour_ref']]= scaler.transform(testing_data[['colour_ref']])\n",
    "scaler.fit(testing_data[['price']])\n",
    "testing_data[['price']]= scaler.transform(testing_data[['price']])"
   ]
  },
  {
   "cell_type": "code",
   "execution_count": 87,
   "id": "1f1e9e18",
   "metadata": {},
   "outputs": [
    {
     "data": {
      "text/html": [
       "<div>\n",
       "<style scoped>\n",
       "    .dataframe tbody tr th:only-of-type {\n",
       "        vertical-align: middle;\n",
       "    }\n",
       "\n",
       "    .dataframe tbody tr th {\n",
       "        vertical-align: top;\n",
       "    }\n",
       "\n",
       "    .dataframe thead th {\n",
       "        text-align: right;\n",
       "    }\n",
       "</style>\n",
       "<table border=\"1\" class=\"dataframe\">\n",
       "  <thead>\n",
       "    <tr style=\"text-align: right;\">\n",
       "      <th></th>\n",
       "      <th>index</th>\n",
       "      <th>p_id</th>\n",
       "      <th>name</th>\n",
       "      <th>brand</th>\n",
       "      <th>brand_id</th>\n",
       "      <th>price</th>\n",
       "      <th>colour</th>\n",
       "      <th>avg_rating</th>\n",
       "      <th>colour_ref</th>\n",
       "    </tr>\n",
       "  </thead>\n",
       "  <tbody>\n",
       "    <tr>\n",
       "      <th>0</th>\n",
       "      <td>0</td>\n",
       "      <td>0.670066</td>\n",
       "      <td>513 Women Black &amp; Grey Woven-Design Kimono Shrug</td>\n",
       "      <td>513</td>\n",
       "      <td>0.000000</td>\n",
       "      <td>0.047136</td>\n",
       "      <td>Black</td>\n",
       "      <td>4.573529</td>\n",
       "      <td>0.041667</td>\n",
       "    </tr>\n",
       "    <tr>\n",
       "      <th>13</th>\n",
       "      <td>13</td>\n",
       "      <td>0.831529</td>\n",
       "      <td>20Dresses Women Black Crop Tailored Jacket</td>\n",
       "      <td>20Dresses</td>\n",
       "      <td>0.001963</td>\n",
       "      <td>0.158109</td>\n",
       "      <td>Black</td>\n",
       "      <td>4.101067</td>\n",
       "      <td>0.041667</td>\n",
       "    </tr>\n",
       "    <tr>\n",
       "      <th>21</th>\n",
       "      <td>21</td>\n",
       "      <td>0.894212</td>\n",
       "      <td>20Dresses Women Pink Cable Knit Acrylic Pullover</td>\n",
       "      <td>20Dresses</td>\n",
       "      <td>0.001963</td>\n",
       "      <td>0.107606</td>\n",
       "      <td>Pink</td>\n",
       "      <td>4.101067</td>\n",
       "      <td>0.708333</td>\n",
       "    </tr>\n",
       "    <tr>\n",
       "      <th>25</th>\n",
       "      <td>25</td>\n",
       "      <td>0.600766</td>\n",
       "      <td>20Dresses Women Blue Solid Batwing Sleeved Bas...</td>\n",
       "      <td>20Dresses</td>\n",
       "      <td>0.001963</td>\n",
       "      <td>0.070570</td>\n",
       "      <td>Blue</td>\n",
       "      <td>4.714286</td>\n",
       "      <td>0.062500</td>\n",
       "    </tr>\n",
       "    <tr>\n",
       "      <th>26</th>\n",
       "      <td>26</td>\n",
       "      <td>0.948500</td>\n",
       "      <td>20Dresses Women Blue Mildly Distressed Light F...</td>\n",
       "      <td>20Dresses</td>\n",
       "      <td>0.001963</td>\n",
       "      <td>0.090771</td>\n",
       "      <td>Blue</td>\n",
       "      <td>4.101067</td>\n",
       "      <td>0.062500</td>\n",
       "    </tr>\n",
       "    <tr>\n",
       "      <th>...</th>\n",
       "      <td>...</td>\n",
       "      <td>...</td>\n",
       "      <td>...</td>\n",
       "      <td>...</td>\n",
       "      <td>...</td>\n",
       "      <td>...</td>\n",
       "      <td>...</td>\n",
       "      <td>...</td>\n",
       "      <td>...</td>\n",
       "    </tr>\n",
       "    <tr>\n",
       "      <th>14184</th>\n",
       "      <td>14271</td>\n",
       "      <td>0.743257</td>\n",
       "      <td>ZOLA Women Blue Mid-Rise Slim Fit Ankle Length...</td>\n",
       "      <td>ZOLA</td>\n",
       "      <td>1.000000</td>\n",
       "      <td>0.108616</td>\n",
       "      <td>Blue</td>\n",
       "      <td>4.101067</td>\n",
       "      <td>0.062500</td>\n",
       "    </tr>\n",
       "    <tr>\n",
       "      <th>14194</th>\n",
       "      <td>14281</td>\n",
       "      <td>0.910671</td>\n",
       "      <td>ZOLA Women Blue Washed Lightweight Crop Cotton...</td>\n",
       "      <td>ZOLA</td>\n",
       "      <td>1.000000</td>\n",
       "      <td>0.090906</td>\n",
       "      <td>Blue</td>\n",
       "      <td>4.101067</td>\n",
       "      <td>0.062500</td>\n",
       "    </tr>\n",
       "    <tr>\n",
       "      <th>14197</th>\n",
       "      <td>14284</td>\n",
       "      <td>0.743190</td>\n",
       "      <td>ZOLA Women Blue Slim Fit High-Rise Light Fade ...</td>\n",
       "      <td>ZOLA</td>\n",
       "      <td>1.000000</td>\n",
       "      <td>0.122252</td>\n",
       "      <td>Blue</td>\n",
       "      <td>4.777778</td>\n",
       "      <td>0.062500</td>\n",
       "    </tr>\n",
       "    <tr>\n",
       "      <th>14213</th>\n",
       "      <td>14300</td>\n",
       "      <td>0.914784</td>\n",
       "      <td>ZOLA Grey Bootcut Jeans</td>\n",
       "      <td>ZOLA</td>\n",
       "      <td>1.000000</td>\n",
       "      <td>0.117572</td>\n",
       "      <td>Grey</td>\n",
       "      <td>4.750000</td>\n",
       "      <td>0.375000</td>\n",
       "    </tr>\n",
       "    <tr>\n",
       "      <th>14215</th>\n",
       "      <td>14302</td>\n",
       "      <td>0.918497</td>\n",
       "      <td>ZOLA Peach-Coloured &amp; Green Floral Printed Cot...</td>\n",
       "      <td>ZOLA</td>\n",
       "      <td>1.000000</td>\n",
       "      <td>0.049022</td>\n",
       "      <td>Peach</td>\n",
       "      <td>4.101067</td>\n",
       "      <td>0.687500</td>\n",
       "    </tr>\n",
       "  </tbody>\n",
       "</table>\n",
       "<p>2844 rows × 9 columns</p>\n",
       "</div>"
      ],
      "text/plain": [
       "       index      p_id                                               name  \\\n",
       "0          0  0.670066   513 Women Black & Grey Woven-Design Kimono Shrug   \n",
       "13        13  0.831529         20Dresses Women Black Crop Tailored Jacket   \n",
       "21        21  0.894212   20Dresses Women Pink Cable Knit Acrylic Pullover   \n",
       "25        25  0.600766  20Dresses Women Blue Solid Batwing Sleeved Bas...   \n",
       "26        26  0.948500  20Dresses Women Blue Mildly Distressed Light F...   \n",
       "...      ...       ...                                                ...   \n",
       "14184  14271  0.743257  ZOLA Women Blue Mid-Rise Slim Fit Ankle Length...   \n",
       "14194  14281  0.910671  ZOLA Women Blue Washed Lightweight Crop Cotton...   \n",
       "14197  14284  0.743190  ZOLA Women Blue Slim Fit High-Rise Light Fade ...   \n",
       "14213  14300  0.914784                            ZOLA Grey Bootcut Jeans   \n",
       "14215  14302  0.918497  ZOLA Peach-Coloured & Green Floral Printed Cot...   \n",
       "\n",
       "           brand  brand_id     price colour  avg_rating  colour_ref  \n",
       "0            513  0.000000  0.047136  Black    4.573529    0.041667  \n",
       "13     20Dresses  0.001963  0.158109  Black    4.101067    0.041667  \n",
       "21     20Dresses  0.001963  0.107606   Pink    4.101067    0.708333  \n",
       "25     20Dresses  0.001963  0.070570   Blue    4.714286    0.062500  \n",
       "26     20Dresses  0.001963  0.090771   Blue    4.101067    0.062500  \n",
       "...          ...       ...       ...    ...         ...         ...  \n",
       "14184       ZOLA  1.000000  0.108616   Blue    4.101067    0.062500  \n",
       "14194       ZOLA  1.000000  0.090906   Blue    4.101067    0.062500  \n",
       "14197       ZOLA  1.000000  0.122252   Blue    4.777778    0.062500  \n",
       "14213       ZOLA  1.000000  0.117572   Grey    4.750000    0.375000  \n",
       "14215       ZOLA  1.000000  0.049022  Peach    4.101067    0.687500  \n",
       "\n",
       "[2844 rows x 9 columns]"
      ]
     },
     "execution_count": 87,
     "metadata": {},
     "output_type": "execute_result"
    }
   ],
   "source": [
    "testing_data"
   ]
  },
  {
   "cell_type": "code",
   "execution_count": 88,
   "id": "abb3e274",
   "metadata": {},
   "outputs": [
    {
     "data": {
      "text/html": [
       "<div>\n",
       "<style scoped>\n",
       "    .dataframe tbody tr th:only-of-type {\n",
       "        vertical-align: middle;\n",
       "    }\n",
       "\n",
       "    .dataframe tbody tr th {\n",
       "        vertical-align: top;\n",
       "    }\n",
       "\n",
       "    .dataframe thead th {\n",
       "        text-align: right;\n",
       "    }\n",
       "</style>\n",
       "<table border=\"1\" class=\"dataframe\">\n",
       "  <thead>\n",
       "    <tr style=\"text-align: right;\">\n",
       "      <th></th>\n",
       "      <th>index</th>\n",
       "      <th>p_id</th>\n",
       "      <th>name</th>\n",
       "      <th>brand</th>\n",
       "      <th>brand_id</th>\n",
       "      <th>price</th>\n",
       "      <th>colour</th>\n",
       "      <th>avg_rating</th>\n",
       "      <th>colour_ref</th>\n",
       "    </tr>\n",
       "  </thead>\n",
       "  <tbody>\n",
       "    <tr>\n",
       "      <th>11364</th>\n",
       "      <td>11432</td>\n",
       "      <td>0.958391</td>\n",
       "      <td>STREET 9 Women Lime Green Solid Corset Jumpsuit</td>\n",
       "      <td>STREET 9</td>\n",
       "      <td>0.824338</td>\n",
       "      <td>0.052896</td>\n",
       "      <td>Lime Green</td>\n",
       "      <td>4.200000</td>\n",
       "      <td>0.458333</td>\n",
       "    </tr>\n",
       "    <tr>\n",
       "      <th>3151</th>\n",
       "      <td>3176</td>\n",
       "      <td>0.743184</td>\n",
       "      <td>Dupatta Bazaar Beige &amp; White Ethnic Motifs Emb...</td>\n",
       "      <td>Dupatta Bazaar</td>\n",
       "      <td>0.236506</td>\n",
       "      <td>0.017353</td>\n",
       "      <td>Beige</td>\n",
       "      <td>4.101067</td>\n",
       "      <td>0.020833</td>\n",
       "    </tr>\n",
       "    <tr>\n",
       "      <th>6150</th>\n",
       "      <td>6190</td>\n",
       "      <td>0.872808</td>\n",
       "      <td>Kook N Keech Emoji Women White &amp; Sea Green Pri...</td>\n",
       "      <td>Kook N Keech Emoji</td>\n",
       "      <td>0.469087</td>\n",
       "      <td>0.042442</td>\n",
       "      <td>White</td>\n",
       "      <td>4.101067</td>\n",
       "      <td>0.979167</td>\n",
       "    </tr>\n",
       "    <tr>\n",
       "      <th>13820</th>\n",
       "      <td>13905</td>\n",
       "      <td>0.762917</td>\n",
       "      <td>Westwood Women Black Skinny Fit Trousers</td>\n",
       "      <td>Westwood</td>\n",
       "      <td>0.955839</td>\n",
       "      <td>0.036170</td>\n",
       "      <td>Black</td>\n",
       "      <td>5.000000</td>\n",
       "      <td>0.041667</td>\n",
       "    </tr>\n",
       "    <tr>\n",
       "      <th>12103</th>\n",
       "      <td>12178</td>\n",
       "      <td>0.891912</td>\n",
       "      <td>THE WEAVE TRAVELLER Red &amp; Beige Ethnic Motifs ...</td>\n",
       "      <td>THE WEAVE TRAVELLER</td>\n",
       "      <td>0.874387</td>\n",
       "      <td>0.017165</td>\n",
       "      <td>Red</td>\n",
       "      <td>4.101067</td>\n",
       "      <td>0.750000</td>\n",
       "    </tr>\n",
       "    <tr>\n",
       "      <th>...</th>\n",
       "      <td>...</td>\n",
       "      <td>...</td>\n",
       "      <td>...</td>\n",
       "      <td>...</td>\n",
       "      <td>...</td>\n",
       "      <td>...</td>\n",
       "      <td>...</td>\n",
       "      <td>...</td>\n",
       "      <td>...</td>\n",
       "    </tr>\n",
       "    <tr>\n",
       "      <th>5414</th>\n",
       "      <td>5448</td>\n",
       "      <td>0.702085</td>\n",
       "      <td>Ishin Women Brown Embroidered Kurti with Shara...</td>\n",
       "      <td>Ishin</td>\n",
       "      <td>0.399411</td>\n",
       "      <td>0.151160</td>\n",
       "      <td>Brown</td>\n",
       "      <td>3.866171</td>\n",
       "      <td>0.104167</td>\n",
       "    </tr>\n",
       "    <tr>\n",
       "      <th>6657</th>\n",
       "      <td>6697</td>\n",
       "      <td>0.972413</td>\n",
       "      <td>Malachi Women Black Washed Denim Shorts</td>\n",
       "      <td>Malachi</td>\n",
       "      <td>0.529931</td>\n",
       "      <td>0.029898</td>\n",
       "      <td>Black</td>\n",
       "      <td>4.101067</td>\n",
       "      <td>0.041667</td>\n",
       "    </tr>\n",
       "    <tr>\n",
       "      <th>3550</th>\n",
       "      <td>3576</td>\n",
       "      <td>0.824083</td>\n",
       "      <td>Fabindia Blue Embroidered Tunic</td>\n",
       "      <td>Fabindia</td>\n",
       "      <td>0.271835</td>\n",
       "      <td>0.052708</td>\n",
       "      <td>Blue</td>\n",
       "      <td>4.101067</td>\n",
       "      <td>0.062500</td>\n",
       "    </tr>\n",
       "    <tr>\n",
       "      <th>5154</th>\n",
       "      <td>5187</td>\n",
       "      <td>0.586853</td>\n",
       "      <td>Inddus Lavender Solid Net Saree With Embroidery</td>\n",
       "      <td>Inddus</td>\n",
       "      <td>0.380765</td>\n",
       "      <td>0.071712</td>\n",
       "      <td>Lavender</td>\n",
       "      <td>4.144044</td>\n",
       "      <td>0.437500</td>\n",
       "    </tr>\n",
       "    <tr>\n",
       "      <th>10747</th>\n",
       "      <td>10807</td>\n",
       "      <td>0.739488</td>\n",
       "      <td>Sera Women Off White &amp; Grey Printed Shrug</td>\n",
       "      <td>Sera</td>\n",
       "      <td>0.777233</td>\n",
       "      <td>0.048610</td>\n",
       "      <td>Off White</td>\n",
       "      <td>3.000000</td>\n",
       "      <td>0.625000</td>\n",
       "    </tr>\n",
       "  </tbody>\n",
       "</table>\n",
       "<p>11374 rows × 9 columns</p>\n",
       "</div>"
      ],
      "text/plain": [
       "       index      p_id                                               name  \\\n",
       "11364  11432  0.958391    STREET 9 Women Lime Green Solid Corset Jumpsuit   \n",
       "3151    3176  0.743184  Dupatta Bazaar Beige & White Ethnic Motifs Emb...   \n",
       "6150    6190  0.872808  Kook N Keech Emoji Women White & Sea Green Pri...   \n",
       "13820  13905  0.762917           Westwood Women Black Skinny Fit Trousers   \n",
       "12103  12178  0.891912  THE WEAVE TRAVELLER Red & Beige Ethnic Motifs ...   \n",
       "...      ...       ...                                                ...   \n",
       "5414    5448  0.702085  Ishin Women Brown Embroidered Kurti with Shara...   \n",
       "6657    6697  0.972413            Malachi Women Black Washed Denim Shorts   \n",
       "3550    3576  0.824083                    Fabindia Blue Embroidered Tunic   \n",
       "5154    5187  0.586853    Inddus Lavender Solid Net Saree With Embroidery   \n",
       "10747  10807  0.739488          Sera Women Off White & Grey Printed Shrug   \n",
       "\n",
       "                     brand  brand_id     price      colour  avg_rating  \\\n",
       "11364             STREET 9  0.824338  0.052896  Lime Green    4.200000   \n",
       "3151        Dupatta Bazaar  0.236506  0.017353       Beige    4.101067   \n",
       "6150    Kook N Keech Emoji  0.469087  0.042442       White    4.101067   \n",
       "13820             Westwood  0.955839  0.036170       Black    5.000000   \n",
       "12103  THE WEAVE TRAVELLER  0.874387  0.017165         Red    4.101067   \n",
       "...                    ...       ...       ...         ...         ...   \n",
       "5414                 Ishin  0.399411  0.151160       Brown    3.866171   \n",
       "6657               Malachi  0.529931  0.029898       Black    4.101067   \n",
       "3550              Fabindia  0.271835  0.052708        Blue    4.101067   \n",
       "5154                Inddus  0.380765  0.071712    Lavender    4.144044   \n",
       "10747                 Sera  0.777233  0.048610   Off White    3.000000   \n",
       "\n",
       "       colour_ref  \n",
       "11364    0.458333  \n",
       "3151     0.020833  \n",
       "6150     0.979167  \n",
       "13820    0.041667  \n",
       "12103    0.750000  \n",
       "...           ...  \n",
       "5414     0.104167  \n",
       "6657     0.041667  \n",
       "3550     0.062500  \n",
       "5154     0.437500  \n",
       "10747    0.625000  \n",
       "\n",
       "[11374 rows x 9 columns]"
      ]
     },
     "execution_count": 88,
     "metadata": {},
     "output_type": "execute_result"
    }
   ],
   "source": [
    "training_data"
   ]
  },
  {
   "cell_type": "code",
   "execution_count": 89,
   "id": "d351f75a",
   "metadata": {},
   "outputs": [],
   "source": [
    "X_train = training_data[['p_id', 'brand_id', 'colour_ref']]\n",
    "y_train = training_data['price']\n",
    "\n",
    "X_test = testing_data[['p_id','brand_id','colour_ref']]\n",
    "y_test = testing_data['price']"
   ]
  },
  {
   "cell_type": "code",
   "execution_count": 90,
   "id": "1a299c2b",
   "metadata": {},
   "outputs": [
    {
     "data": {
      "text/plain": [
       "count    2844.000000\n",
       "mean        0.087258\n",
       "std         0.083214\n",
       "min         0.000000\n",
       "25%         0.040403\n",
       "50%         0.063971\n",
       "75%         0.102109\n",
       "max         1.000000\n",
       "Name: price, dtype: float64"
      ]
     },
     "execution_count": 90,
     "metadata": {},
     "output_type": "execute_result"
    }
   ],
   "source": [
    "y_test.describe()"
   ]
  },
  {
   "cell_type": "code",
   "execution_count": 91,
   "id": "784b6ff9",
   "metadata": {},
   "outputs": [],
   "source": [
    "reg= linear_model.LinearRegression()"
   ]
  },
  {
   "cell_type": "code",
   "execution_count": 92,
   "id": "de54c977",
   "metadata": {},
   "outputs": [],
   "source": [
    "model = reg.fit(X_train, y_train)"
   ]
  },
  {
   "cell_type": "code",
   "execution_count": 93,
   "id": "a2dfd0a7",
   "metadata": {},
   "outputs": [
    {
     "data": {
      "text/plain": [
       "LinearRegression()"
      ]
     },
     "execution_count": 93,
     "metadata": {},
     "output_type": "execute_result"
    }
   ],
   "source": [
    "model"
   ]
  },
  {
   "cell_type": "code",
   "execution_count": 109,
   "id": "a3b74ff2",
   "metadata": {},
   "outputs": [],
   "source": [
    "predict_y = model.predict(X_test)"
   ]
  },
  {
   "cell_type": "code",
   "execution_count": 110,
   "id": "b36ce056",
   "metadata": {},
   "outputs": [
    {
     "data": {
      "image/png": "[encoded data removed]",
      "text/plain": [
       "<Figure size 1296x720 with 1 Axes>"
      ]
     },
     "metadata": {
      "needs_background": "light"
     },
     "output_type": "display_data"
    }
   ],
   "source": [
    "plt.figure(figsize=(18,10))\n",
    "x_axis=range(len(y_test))\n",
    "plt.plot(x_axis, y_test, label='original')\n",
    "plt.plot(x_axis, predict_y, label='predicted')\n",
    "plt.title('Actual  and predicted data')\n",
    "plt.legend()\n",
    "plt.show()"
   ]
  },
  {
   "cell_type": "code",
   "execution_count": 114,
   "id": "9370d2c0",
   "metadata": {},
   "outputs": [],
   "source": [
    "from sklearn import metrics"
   ]
  },
  {
   "cell_type": "code",
   "execution_count": 115,
   "id": "986ec489",
   "metadata": {},
   "outputs": [
    {
     "name": "stdout",
     "output_type": "stream",
     "text": [
      "Mean Square Error:  0.007596073148308451\n",
      "Mean Absolute Error:  0.046849105414579324\n"
     ]
    }
   ],
   "source": [
    "print('Mean Square Error: ', metrics.mean_squared_error(y_test,y_predict))\n",
    "print('Mean Absolute Error: ', metrics.mean_absolute_error(y_test,y_predict))"
   ]
  },
  {
   "cell_type": "code",
   "execution_count": 116,
   "id": "20f593f5",
   "metadata": {},
   "outputs": [],
   "source": [
    "Multiple= metrics.mean_absolute_error(y_test,y_predict)"
   ]
  },
  {
   "cell_type": "code",
   "execution_count": 117,
   "id": "4f54250d",
   "metadata": {},
   "outputs": [
    {
     "data": {
      "text/plain": [
       "0.046849105414579324"
      ]
     },
     "execution_count": 117,
     "metadata": {},
     "output_type": "execute_result"
    }
   ],
   "source": [
    "Multiple"
   ]
  },
  {
   "cell_type": "code",
   "execution_count": 118,
   "id": "753e9989",
   "metadata": {},
   "outputs": [
    {
     "data": {
      "text/plain": [
       "array([0.04428702, 0.05133098, 0.0582247 , ..., 0.05946148, 0.0688765 ,\n",
       "       0.07099179])"
      ]
     },
     "execution_count": 118,
     "metadata": {},
     "output_type": "execute_result"
    }
   ],
   "source": [
    "y_predict"
   ]
  },
  {
   "cell_type": "code",
   "execution_count": 119,
   "id": "45d9d752",
   "metadata": {},
   "outputs": [
    {
     "data": {
      "text/html": [
       "<div>\n",
       "<style scoped>\n",
       "    .dataframe tbody tr th:only-of-type {\n",
       "        vertical-align: middle;\n",
       "    }\n",
       "\n",
       "    .dataframe tbody tr th {\n",
       "        vertical-align: top;\n",
       "    }\n",
       "\n",
       "    .dataframe thead th {\n",
       "        text-align: right;\n",
       "    }\n",
       "</style>\n",
       "<table border=\"1\" class=\"dataframe\">\n",
       "  <thead>\n",
       "    <tr style=\"text-align: right;\">\n",
       "      <th></th>\n",
       "      <th>p_id</th>\n",
       "      <th>brand_id</th>\n",
       "      <th>colour_ref</th>\n",
       "    </tr>\n",
       "  </thead>\n",
       "  <tbody>\n",
       "    <tr>\n",
       "      <th>count</th>\n",
       "      <td>11374.000000</td>\n",
       "      <td>11374.000000</td>\n",
       "      <td>11374.000000</td>\n",
       "    </tr>\n",
       "    <tr>\n",
       "      <th>mean</th>\n",
       "      <td>0.807450</td>\n",
       "      <td>0.522432</td>\n",
       "      <td>0.444142</td>\n",
       "    </tr>\n",
       "    <tr>\n",
       "      <th>std</th>\n",
       "      <td>0.163278</td>\n",
       "      <td>0.286655</td>\n",
       "      <td>0.323065</td>\n",
       "    </tr>\n",
       "    <tr>\n",
       "      <th>min</th>\n",
       "      <td>0.000000</td>\n",
       "      <td>0.000000</td>\n",
       "      <td>0.000000</td>\n",
       "    </tr>\n",
       "    <tr>\n",
       "      <th>25%</th>\n",
       "      <td>0.726474</td>\n",
       "      <td>0.271835</td>\n",
       "      <td>0.062500</td>\n",
       "    </tr>\n",
       "    <tr>\n",
       "      <th>50%</th>\n",
       "      <td>0.843637</td>\n",
       "      <td>0.542689</td>\n",
       "      <td>0.500000</td>\n",
       "    </tr>\n",
       "    <tr>\n",
       "      <th>75%</th>\n",
       "      <td>0.931461</td>\n",
       "      <td>0.767419</td>\n",
       "      <td>0.708333</td>\n",
       "    </tr>\n",
       "    <tr>\n",
       "      <th>max</th>\n",
       "      <td>1.000000</td>\n",
       "      <td>1.000000</td>\n",
       "      <td>1.000000</td>\n",
       "    </tr>\n",
       "  </tbody>\n",
       "</table>\n",
       "</div>"
      ],
      "text/plain": [
       "               p_id      brand_id    colour_ref\n",
       "count  11374.000000  11374.000000  11374.000000\n",
       "mean       0.807450      0.522432      0.444142\n",
       "std        0.163278      0.286655      0.323065\n",
       "min        0.000000      0.000000      0.000000\n",
       "25%        0.726474      0.271835      0.062500\n",
       "50%        0.843637      0.542689      0.500000\n",
       "75%        0.931461      0.767419      0.708333\n",
       "max        1.000000      1.000000      1.000000"
      ]
     },
     "execution_count": 119,
     "metadata": {},
     "output_type": "execute_result"
    }
   ],
   "source": [
    "X_train.describe()"
   ]
  },
  {
   "cell_type": "code",
   "execution_count": 120,
   "id": "df1f23c1",
   "metadata": {},
   "outputs": [
    {
     "data": {
      "text/plain": [
       "SVR(kernel='linear')"
      ]
     },
     "execution_count": 120,
     "metadata": {},
     "output_type": "execute_result"
    }
   ],
   "source": [
    "from sklearn.svm import SVR\n",
    "l = SVR(kernel = 'linear')\n",
    "l.fit(X_train, y_train)"
   ]
  },
  {
   "cell_type": "code",
   "execution_count": 121,
   "id": "af4841da",
   "metadata": {},
   "outputs": [],
   "source": [
    "a_predict=l.predict(X_test)"
   ]
  },
  {
   "cell_type": "code",
   "execution_count": 122,
   "id": "a687090c",
   "metadata": {},
   "outputs": [
    {
     "name": "stdout",
     "output_type": "stream",
     "text": [
      "Mean Absolute Error:  0.06303683403156551\n"
     ]
    }
   ],
   "source": [
    "print('Mean Absolute Error: ', metrics.mean_absolute_error(y_test,a_predict))"
   ]
  },
  {
   "cell_type": "code",
   "execution_count": 123,
   "id": "9fed26b0",
   "metadata": {},
   "outputs": [],
   "source": [
    "Linear = metrics.mean_absolute_error(y_test,a_predict)"
   ]
  },
  {
   "cell_type": "code",
   "execution_count": 124,
   "id": "e426ebe5",
   "metadata": {},
   "outputs": [
    {
     "data": {
      "text/plain": [
       "0.06303683403156551"
      ]
     },
     "execution_count": 124,
     "metadata": {},
     "output_type": "execute_result"
    }
   ],
   "source": [
    "Linear"
   ]
  },
  {
   "cell_type": "code",
   "execution_count": 125,
   "id": "19069f2e",
   "metadata": {},
   "outputs": [
    {
     "data": {
      "text/plain": [
       "SVR(kernel='poly')"
      ]
     },
     "execution_count": 125,
     "metadata": {},
     "output_type": "execute_result"
    }
   ],
   "source": [
    "from sklearn.svm import SVR\n",
    "p = SVR(kernel = 'poly')\n",
    "p.fit(X_train, y_train)"
   ]
  },
  {
   "cell_type": "code",
   "execution_count": 126,
   "id": "865ab6ad",
   "metadata": {},
   "outputs": [],
   "source": [
    "b_predict=p.predict(X_test)"
   ]
  },
  {
   "cell_type": "code",
   "execution_count": 127,
   "id": "18879b7f",
   "metadata": {},
   "outputs": [
    {
     "name": "stdout",
     "output_type": "stream",
     "text": [
      "Mean Absolute Error:  0.06308759110516929\n"
     ]
    }
   ],
   "source": [
    "print('Mean Absolute Error: ', metrics.mean_absolute_error(y_test,b_predict))"
   ]
  },
  {
   "cell_type": "code",
   "execution_count": 128,
   "id": "7016c7fb",
   "metadata": {},
   "outputs": [],
   "source": [
    "Poly= metrics.mean_absolute_error(y_test,b_predict)"
   ]
  },
  {
   "cell_type": "code",
   "execution_count": 129,
   "id": "7ce23cbd",
   "metadata": {},
   "outputs": [
    {
     "data": {
      "text/plain": [
       "SVR()"
      ]
     },
     "execution_count": 129,
     "metadata": {},
     "output_type": "execute_result"
    }
   ],
   "source": [
    "r = SVR(kernel = 'rbf')\n",
    "r.fit(X_train, y_train)"
   ]
  },
  {
   "cell_type": "code",
   "execution_count": 130,
   "id": "d8965683",
   "metadata": {},
   "outputs": [],
   "source": [
    "c_predict=r.predict(X_test)"
   ]
  },
  {
   "cell_type": "code",
   "execution_count": 131,
   "id": "cbff8a33",
   "metadata": {},
   "outputs": [
    {
     "name": "stdout",
     "output_type": "stream",
     "text": [
      "Mean Absolute Error:  0.06267718692454474\n"
     ]
    }
   ],
   "source": [
    "print('Mean Absolute Error: ', metrics.mean_absolute_error(y_test,c_predict))"
   ]
  },
  {
   "cell_type": "code",
   "execution_count": 132,
   "id": "b0772f79",
   "metadata": {},
   "outputs": [],
   "source": [
    "RBF= metrics.mean_absolute_error(y_test,c_predict)"
   ]
  },
  {
   "cell_type": "code",
   "execution_count": 133,
   "id": "a31618f2",
   "metadata": {},
   "outputs": [
    {
     "data": {
      "text/plain": [
       "0.06267718692454474"
      ]
     },
     "execution_count": 133,
     "metadata": {},
     "output_type": "execute_result"
    }
   ],
   "source": [
    "RBF"
   ]
  },
  {
   "cell_type": "code",
   "execution_count": 135,
   "id": "07204357",
   "metadata": {},
   "outputs": [
    {
     "data": {
      "image/png": "[encoded data removed]",
      "text/plain": [
       "<Figure size 720x576 with 1 Axes>"
      ]
     },
     "metadata": {
      "needs_background": "light"
     },
     "output_type": "display_data"
    }
   ],
   "source": [
    "plt.figure(figsize=(10,8))\n",
    "plt.xlabel('Models')\n",
    "plt.ylabel(\"Mean Absolute Error\")\n",
    "plt.title('Model Comparison')\n",
    "x = np.array([\"Multiple\", \"Linear\", \"Poly\", \"RBF\"])\n",
    "y = np.array([Multiple, Linear, Poly, RBF])\n",
    "plt.bar(x,y, color=['yellow', 'purple','pink', 'brown'])\n",
    "plt.show()"
   ]
  }
 ],
 "metadata": {
  "kernelspec": {
   "display_name": "Python 3 (ipykernel)",
   "language": "python",
   "name": "python3"
  },
  "language_info": {
   "codemirror_mode": {
    "name": "ipython",
    "version": 3
   },
   "file_extension": ".py",
   "mimetype": "text/x-python",
   "name": "python",
   "nbconvert_exporter": "python",
   "pygments_lexer": "ipython3",
   "version": "3.9.13"
  }
 },
 "nbformat": 4,
 "nbformat_minor": 5
}
